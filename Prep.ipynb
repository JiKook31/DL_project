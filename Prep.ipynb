{
 "cells": [
  {
   "cell_type": "code",
   "execution_count": 3,
   "metadata": {},
   "outputs": [],
   "source": [
    "import numpy as np\n",
    "import pandas as pd\n",
    "import os\n",
    "from tqdm import tqdm"
   ]
  },
  {
   "cell_type": "code",
   "execution_count": 1,
   "metadata": {},
   "outputs": [],
   "source": [
    "data_dir = 'rltc'"
   ]
  },
  {
   "cell_type": "code",
   "execution_count": 7,
   "metadata": {},
   "outputs": [
    {
     "name": "stderr",
     "output_type": "stream",
     "text": [
      "Loading files: 100%|███████████████████████████████████████████████████████████| 10222/10222 [00:01<00:00, 7275.40it/s]\n"
     ]
    }
   ],
   "source": [
    "en_single = {}\n",
    "en_multy = {}\n",
    "\n",
    "ru_single = {}\n",
    "ru_multy = {}\n",
    "\n",
    "source_id = 0\n",
    "\n",
    "for file in tqdm(os.listdir(data_dir), \"Loading files\"):\n",
    "    if '.head' in file:\n",
    "        continue\n",
    "    \n",
    "    if 'EN' in file:\n",
    "        with open(data_dir + '/' + file, encoding=\"utf-8\") as f:\n",
    "            data = f.read()\n",
    "            temp = file.split('_')\n",
    "            \n",
    "            if len(temp) == 3:            \n",
    "                file_id = temp[1] + '_' + temp[2][:-4]\n",
    "\n",
    "                en_single[file_id] = data\n",
    "            else:\n",
    "                file_id = temp[1] + '_' + temp[2]\n",
    "                \n",
    "                if file_id in en_multy:\n",
    "                    en_multy[file_id].append(data)\n",
    "                else:\n",
    "                    en_multy[file_id] = [data]\n",
    "    else:\n",
    "        with open(data_dir + '/' + file, encoding=\"utf-8\") as f:\n",
    "            data = f.read()\n",
    "            temp = file.split('_')\n",
    "            \n",
    "            file_id = temp[1] + '_' + temp[2]\n",
    "            \n",
    "            if len(temp) == 3:            \n",
    "                file_id = temp[1] + '_' + temp[2][:-4]\n",
    "\n",
    "                ru_single[file_id] = data\n",
    "            else:\n",
    "                file_id = temp[1] + '_' + temp[2]\n",
    "                \n",
    "                if file_id in ru_multy:\n",
    "                    ru_multy[file_id].append(data)\n",
    "                else:\n",
    "                    ru_multy[file_id] = [data]\n",
    "    "
   ]
  },
  {
   "cell_type": "code",
   "execution_count": 9,
   "metadata": {},
   "outputs": [
    {
     "data": {
      "text/plain": [
       "431"
      ]
     },
     "execution_count": 9,
     "metadata": {},
     "output_type": "execute_result"
    }
   ],
   "source": [
    "len(en_single)"
   ]
  },
  {
   "cell_type": "code",
   "execution_count": 11,
   "metadata": {},
   "outputs": [
    {
     "data": {
      "text/plain": [
       "132"
      ]
     },
     "execution_count": 11,
     "metadata": {},
     "output_type": "execute_result"
    }
   ],
   "source": [
    "len(en_multy)"
   ]
  },
  {
   "cell_type": "code",
   "execution_count": 12,
   "metadata": {},
   "outputs": [
    {
     "data": {
      "text/plain": [
       "132"
      ]
     },
     "execution_count": 12,
     "metadata": {},
     "output_type": "execute_result"
    }
   ],
   "source": [
    "len(ru_single)"
   ]
  },
  {
   "cell_type": "code",
   "execution_count": 13,
   "metadata": {},
   "outputs": [
    {
     "data": {
      "text/plain": [
       "431"
      ]
     },
     "execution_count": 13,
     "metadata": {},
     "output_type": "execute_result"
    }
   ],
   "source": [
    "len(ru_multy)"
   ]
  },
  {
   "cell_type": "code",
   "execution_count": null,
   "metadata": {},
   "outputs": [],
   "source": []
  }
 ],
 "metadata": {
  "kernelspec": {
   "display_name": "Python 3",
   "language": "python",
   "name": "python3"
  },
  "language_info": {
   "codemirror_mode": {
    "name": "ipython",
    "version": 3
   },
   "file_extension": ".py",
   "mimetype": "text/x-python",
   "name": "python",
   "nbconvert_exporter": "python",
   "pygments_lexer": "ipython3",
   "version": "3.6.4"
  }
 },
 "nbformat": 4,
 "nbformat_minor": 2
}
